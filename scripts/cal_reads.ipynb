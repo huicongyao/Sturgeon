{
 "cells": [
  {
   "cell_type": "code",
   "execution_count": 2,
   "metadata": {},
   "outputs": [],
   "source": [
    "import pysam \n",
    "from tqdm import tqdm"
   ]
  },
  {
   "cell_type": "code",
   "execution_count": 58,
   "metadata": {},
   "outputs": [],
   "source": [
    "bam_file = pysam.AlignmentFile(\"/data1/YHC/QiTan_data/ara/Sturgeon/alignment.bam\", 'r', threads=10)\n",
    "mapped_reads, total_reads = 0, 0\n",
    "total_insert, total_delete, total_soft_clip, total_hard_clip = 0, 0, 0, 0\n",
    "total_seq_len, total_ref_len = 0, 0\n",
    "total_match, total_mis_match = 0, 0\n",
    "total_num_ins, total_num_del = 0, 0\n",
    "for read in bam_file:\n",
    "    total_reads += 1\n",
    "    if read.is_unmapped: continue\n",
    "    mapped_reads += 1\n",
    "    if mapped_reads >= 1000000: break\n",
    "    # if read.query_alignment_sequence is None or len(read.query_alignment_sequence) <= 1000: continue\n",
    "    M = 0\n",
    "    insert, delete, soft_clip, hard_clip = 0, 0, 0, 0\n",
    "    seq_len, ref_len = 0, 0\n",
    "    match, mis_match = 0, 0\n",
    "    num_ins, num_del = 0, 0\n",
    "    for (op, op_len) in read.cigar:        \n",
    "        if op == 0:\n",
    "            M += op_len\n",
    "            seq_len += op_len\n",
    "            ref_len += op_len\n",
    "        elif op == 1:\n",
    "            insert += op_len\n",
    "            num_ins += 1\n",
    "            seq_len += op_len\n",
    "        elif op == 2:\n",
    "            delete += op_len\n",
    "            num_del += 1\n",
    "            ref_len += op_len\n",
    "        elif op == 4:\n",
    "            soft_clip += op_len\n",
    "            seq_len += op_len\n",
    "        elif op == 5:\n",
    "            hard_clip += op_len\n",
    "        else:\n",
    "            print(\"find other tag-{}\".format(op))\n",
    "    try:\n",
    "        NM = read.get_tag(\"NM\") # mismatches, inserted, deleted\n",
    "    except:\n",
    "        continue # skip reads that have no tags\n",
    "    mis_match = (NM - insert - delete)\n",
    "    match = (M - mis_match)\n",
    "\n",
    "    total_match += match\n",
    "    total_mis_match += mis_match\n",
    "    total_insert += insert\n",
    "    total_delete += delete\n",
    "    total_num_ins += num_ins\n",
    "    total_num_del += num_del\n",
    "    total_soft_clip += soft_clip\n",
    "    total_seq_len += seq_len\n",
    "    total_ref_len += ref_len\n",
    "    total_hard_clip += hard_clip"
   ]
  },
  {
   "cell_type": "code",
   "execution_count": 59,
   "metadata": {},
   "outputs": [
    {
     "data": {
      "text/plain": [
       "(5400042191,\n",
       " 240184502,\n",
       " 121345447,\n",
       " 237331773,\n",
       " 343107203,\n",
       " 6104679343,\n",
       " 5877558466,\n",
       " 112838793)"
      ]
     },
     "execution_count": 59,
     "metadata": {},
     "output_type": "execute_result"
    }
   ],
   "source": [
    "total_match, total_mis_match, total_insert, total_delete, total_soft_clip, total_seq_len, total_ref_len, total_hard_clip"
   ]
  },
  {
   "cell_type": "code",
   "execution_count": 60,
   "metadata": {},
   "outputs": [
    {
     "data": {
      "text/plain": [
       "0.04086467253186827"
      ]
     },
     "execution_count": 60,
     "metadata": {},
     "output_type": "execute_result"
    }
   ],
   "source": [
    "# mismatch_rate\n",
    "total_mis_match / total_ref_len"
   ]
  },
  {
   "cell_type": "code",
   "execution_count": 61,
   "metadata": {},
   "outputs": [
    {
     "data": {
      "text/plain": [
       "0.014389972892529964"
      ]
     },
     "execution_count": 61,
     "metadata": {},
     "output_type": "execute_result"
    }
   ],
   "source": [
    "# insert rate\n",
    "total_num_ins / total_ref_len"
   ]
  },
  {
   "cell_type": "code",
   "execution_count": 62,
   "metadata": {},
   "outputs": [
    {
     "data": {
      "text/plain": [
       "0.02595762422144488"
      ]
     },
     "execution_count": 62,
     "metadata": {},
     "output_type": "execute_result"
    }
   ],
   "source": [
    "# delete rate\n",
    "total_num_del / total_ref_len"
   ]
  },
  {
   "cell_type": "code",
   "execution_count": 63,
   "metadata": {},
   "outputs": [
    {
     "data": {
      "text/plain": [
       "0.0812122696458431"
      ]
     },
     "execution_count": 63,
     "metadata": {},
     "output_type": "execute_result"
    }
   ],
   "source": [
    "# error rate\n",
    "(total_mis_match + total_num_ins + total_num_del) / total_ref_len"
   ]
  },
  {
   "cell_type": "code",
   "execution_count": 64,
   "metadata": {},
   "outputs": [
    {
     "data": {
      "text/plain": [
       "0.9187560144637785"
      ]
     },
     "execution_count": 64,
     "metadata": {},
     "output_type": "execute_result"
    }
   ],
   "source": [
    "# identity(match) rate\n",
    "total_match / total_ref_len"
   ]
  },
  {
   "cell_type": "code",
   "execution_count": 65,
   "metadata": {},
   "outputs": [
    {
     "data": {
      "text/plain": [
       "1.0386420447050981"
      ]
     },
     "execution_count": 65,
     "metadata": {},
     "output_type": "execute_result"
    }
   ],
   "source": [
    "# relative length\n",
    "total_seq_len / total_ref_len"
   ]
  },
  {
   "cell_type": "code",
   "execution_count": 55,
   "metadata": {},
   "outputs": [
    {
     "data": {
      "text/plain": [
       "0.8417154565375655"
      ]
     },
     "execution_count": 55,
     "metadata": {},
     "output_type": "execute_result"
    }
   ],
   "source": [
    "a = 14850007255\n",
    "b = 2792543015\n",
    "a / (a + b)"
   ]
  },
  {
   "cell_type": "code",
   "execution_count": 56,
   "metadata": {},
   "outputs": [
    {
     "data": {
      "text/plain": [
       "2918456.0"
      ]
     },
     "execution_count": 56,
     "metadata": {},
     "output_type": "execute_result"
    }
   ],
   "source": [
    "11673824 / 4"
   ]
  },
  {
   "cell_type": "code",
   "execution_count": 57,
   "metadata": {},
   "outputs": [
    {
     "data": {
      "text/plain": [
       "1244293.0"
      ]
     },
     "execution_count": 57,
     "metadata": {},
     "output_type": "execute_result"
    }
   ],
   "source": [
    "4977172 / 4"
   ]
  },
  {
   "cell_type": "code",
   "execution_count": 15,
   "metadata": {},
   "outputs": [
    {
     "data": {
      "text/plain": [
       "1959244.0"
      ]
     },
     "execution_count": 15,
     "metadata": {},
     "output_type": "execute_result"
    }
   ],
   "source": [
    "7836976 / 4"
   ]
  },
  {
   "cell_type": "code",
   "execution_count": 16,
   "metadata": {},
   "outputs": [
    {
     "data": {
      "text/plain": [
       "1244293.0"
      ]
     },
     "execution_count": 16,
     "metadata": {},
     "output_type": "execute_result"
    }
   ],
   "source": [
    "4977172 / 4"
   ]
  },
  {
   "cell_type": "code",
   "execution_count": null,
   "metadata": {},
   "outputs": [],
   "source": []
  }
 ],
 "metadata": {
  "kernelspec": {
   "display_name": "Torch2.0",
   "language": "python",
   "name": "python3"
  },
  "language_info": {
   "codemirror_mode": {
    "name": "ipython",
    "version": 3
   },
   "file_extension": ".py",
   "mimetype": "text/x-python",
   "name": "python",
   "nbconvert_exporter": "python",
   "pygments_lexer": "ipython3",
   "version": "3.10.15"
  }
 },
 "nbformat": 4,
 "nbformat_minor": 2
}
